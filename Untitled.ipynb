{
 "cells": [
  {
   "cell_type": "code",
   "execution_count": 1,
   "id": "2f11dc78-740c-4741-a9d1-8f445de9075d",
   "metadata": {},
   "outputs": [],
   "source": [
    "import pandas as pd\n",
    "import seaborn as sns\n",
    "import matplotlib as plt"
   ]
  },
  {
   "cell_type": "code",
   "execution_count": 2,
   "id": "3b54ba89-d75b-45ce-b6b4-93cd854cef1e",
   "metadata": {},
   "outputs": [],
   "source": [
    "inf = pd.read_csv(\"S:\\ФБИ-11\\ml-engineering\\data.csv\") # \"чтение\" файла"
   ]
  },
  {
   "cell_type": "code",
   "execution_count": 3,
   "id": "3634169b-dfec-42dc-b970-0fc811c38497",
   "metadata": {},
   "outputs": [],
   "source": [
    "inf[\"нет ответа\"]=data[\"Ответ\"].isna()"
   ]
  },
  {
   "cell_type": "code",
   "execution_count": 4,
   "id": "d08395b4-532e-42d3-a691-17a5bc28daf8",
   "metadata": {},
   "outputs": [
    {
     "data": {
      "text/plain": [
       "Сайт\n",
       "Федеральная служба судебных приставов                      9076\n",
       "Федеральная миграционная служба                            2102\n",
       "Федеральная налоговая служба                                932\n",
       "Официальный сайт Пенсионного фонда Российской Федерации     469\n",
       "Федеральная служба исполнения наказаний                     299\n",
       "Name: Сообщение, dtype: int64"
      ]
     },
     "execution_count": 4,
     "metadata": {},
     "output_type": "execute_result"
    }
   ],
   "source": [
    "inf = inf.groupby(['Тип отзыва', 'Подведомственность'])['нет ответа'].sum().reset_index()\n",
    "sns.barplot(x='Тип отзыва', y='нет ответа', hue='Подведомственность', data=inf, pallette='muted')"
   ]
  },
  {
   "cell_type": "code",
   "execution_count": 5,
   "id": "494e66dc-6db7-47a7-8398-56e2d79aeca3",
   "metadata": {},
   "outputs": [],
   "source": [
    "plt.xlabel('Тип отзыва')"
   ]
  },
  {
   "cell_type": "code",
   "execution_count": 6,
   "id": "7a124f64-197a-422e-8388-fac05b8423d8",
   "metadata": {},
   "outputs": [
    {
     "data": {
      "text/plain": [
       "Куратор\n",
       "Ищенко Роман Вячеславович       3271\n",
       "Червинский Владимир Петрович    3099\n",
       "Демкин Павел Алексеевич         2159\n",
       "Сафонова Наталья Сергеевна      1598\n",
       "Копчикова Любовь Валерьевна      485\n",
       "Name: Сообщение, dtype: int64"
      ]
     },
     "execution_count": 6,
     "metadata": {},
     "output_type": "execute_result"
    }
   ],
   "source": [
    "grouped.sort_values(ascending=False).head(5) # сортировка по убыванию и выбор топ-5 "
   ]
  },
  {
   "cell_type": "code",
   "execution_count": 7,
   "id": "17ce79b7-a28d-4b52-bd46-d3b565b7908f",
   "metadata": {},
   "outputs": [
    {
     "ename": "AttributeError",
     "evalue": "'SeriesGroupBy' object has no attribute 'isna'",
     "output_type": "error",
     "traceback": [
      "\u001b[1;31m---------------------------------------------------------------------------\u001b[0m",
      "\u001b[1;31mAttributeError\u001b[0m                            Traceback (most recent call last)",
      "Cell \u001b[1;32mIn[7], line 1\u001b[0m\n\u001b[1;32m----> 1\u001b[0m grouped\u001b[38;5;241m=\u001b[39m\u001b[43mdf\u001b[49m\u001b[38;5;241;43m.\u001b[39;49m\u001b[43mgroupby\u001b[49m\u001b[43m(\u001b[49m\u001b[43m[\u001b[49m\u001b[38;5;124;43m\"\u001b[39;49m\u001b[38;5;124;43mКуратор\u001b[39;49m\u001b[38;5;124;43m\"\u001b[39;49m\u001b[43m]\u001b[49m\u001b[43m)\u001b[49m\u001b[43m[\u001b[49m\u001b[38;5;124;43m\"\u001b[39;49m\u001b[38;5;124;43mСообщение\u001b[39;49m\u001b[38;5;124;43m\"\u001b[39;49m\u001b[43m]\u001b[49m\u001b[38;5;241;43m.\u001b[39;49m\u001b[43misna\u001b[49m() \u001b[38;5;66;03m#группировка по 2 столбцам   \u001b[39;00m\n",
      "File \u001b[1;32m~\\AppData\\Local\\Programs\\Python\\Python311\\Lib\\site-packages\\pandas\\core\\groupby\\groupby.py:1307\u001b[0m, in \u001b[0;36mGroupBy.__getattr__\u001b[1;34m(self, attr)\u001b[0m\n\u001b[0;32m   1304\u001b[0m \u001b[38;5;28;01mif\u001b[39;00m attr \u001b[38;5;129;01min\u001b[39;00m \u001b[38;5;28mself\u001b[39m\u001b[38;5;241m.\u001b[39mobj:\n\u001b[0;32m   1305\u001b[0m     \u001b[38;5;28;01mreturn\u001b[39;00m \u001b[38;5;28mself\u001b[39m[attr]\n\u001b[1;32m-> 1307\u001b[0m \u001b[38;5;28;01mraise\u001b[39;00m \u001b[38;5;167;01mAttributeError\u001b[39;00m(\n\u001b[0;32m   1308\u001b[0m     \u001b[38;5;124mf\u001b[39m\u001b[38;5;124m\"\u001b[39m\u001b[38;5;124m'\u001b[39m\u001b[38;5;132;01m{\u001b[39;00m\u001b[38;5;28mtype\u001b[39m(\u001b[38;5;28mself\u001b[39m)\u001b[38;5;241m.\u001b[39m\u001b[38;5;18m__name__\u001b[39m\u001b[38;5;132;01m}\u001b[39;00m\u001b[38;5;124m'\u001b[39m\u001b[38;5;124m object has no attribute \u001b[39m\u001b[38;5;124m'\u001b[39m\u001b[38;5;132;01m{\u001b[39;00mattr\u001b[38;5;132;01m}\u001b[39;00m\u001b[38;5;124m'\u001b[39m\u001b[38;5;124m\"\u001b[39m\n\u001b[0;32m   1309\u001b[0m )\n",
      "\u001b[1;31mAttributeError\u001b[0m: 'SeriesGroupBy' object has no attribute 'isna'"
     ]
    }
   ],
   "source": [
    "plt.ylabel('Количество отзывов без ответа')"
   ]
  },
  {
   "cell_type": "code",
   "execution_count": null,
   "id": "da1524f8-f3e5-43fb-a514-383916f7797f",
   "metadata": {},
   "outputs": [],
   "source": [
    "plt.title('Отзывы без ответа с разбивкой по типу, подведомственности и уровню')"
   ]
  },
  {
   "cell_type": "code",
   "execution_count": null,
   "id": "c98fea64-7a2b-4fc1-a73e-7a7f899a160f",
   "metadata": {},
   "outputs": [],
   "source": [
    "plt.legend"
   ]
  }
 ],
 "metadata": {
  "kernelspec": {
   "display_name": "Python 3 (ipykernel)",
   "language": "python",
   "name": "python3"
  },
  "language_info": {
   "codemirror_mode": {
    "name": "ipython",
    "version": 3
   },
   "file_extension": ".py",
   "mimetype": "text/x-python",
   "name": "python",
   "nbconvert_exporter": "python",
   "pygments_lexer": "ipython3",
   "version": "3.11.4"
  }
 },
 "nbformat": 4,
 "nbformat_minor": 5
}
