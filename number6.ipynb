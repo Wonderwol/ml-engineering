{
 "cells": [
  {
   "cell_type": "code",
   "execution_count": 1,
   "id": "73194898-8736-4fd2-8edc-8bf2bd1d5717",
   "metadata": {},
   "outputs": [
    {
     "name": "stderr",
     "output_type": "stream",
     "text": [
      "C:\\Users\\student\\AppData\\Local\\Temp\\ipykernel_12056\\1353031355.py:3: UserWarning: Could not infer format, so each element will be parsed individually, falling back to `dateutil`. To ensure parsing is consistent and as-expected, please specify a format.\n",
      "  pd.read_csv((\"data.csv\"), parse_dates=[\"Дата отзыва\"]).info()\n"
     ]
    },
    {
     "name": "stdout",
     "output_type": "stream",
     "text": [
      "<class 'pandas.core.frame.DataFrame'>\n",
      "RangeIndex: 16588 entries, 0 to 16587\n",
      "Data columns (total 16 columns):\n",
      " #   Column                Non-Null Count  Dtype         \n",
      "---  ------                --------------  -----         \n",
      " 0   Уровень               16588 non-null  object        \n",
      " 1   Сайт                  16588 non-null  object        \n",
      " 2   Адрес                 16588 non-null  object        \n",
      " 3   Дата сайта            16588 non-null  object        \n",
      " 4   Тип субъекта          691 non-null    object        \n",
      " 5   Подведомственность    15301 non-null  object        \n",
      " 6   Дата отзыва           16588 non-null  datetime64[ns]\n",
      " 7   Тип отзыва            16588 non-null  object        \n",
      " 8   Заголовок             16588 non-null  object        \n",
      " 9   Сообщение             16585 non-null  object        \n",
      " 10  Ответ                 15442 non-null  object        \n",
      " 11  Куратор               14741 non-null  object        \n",
      " 12  Решение куратора      14267 non-null  object        \n",
      " 13  Дата ответа куратора  14741 non-null  object        \n",
      " 14  Статус                16588 non-null  object        \n",
      " 15  Оценка отзыва         565 non-null    object        \n",
      "dtypes: datetime64[ns](1), object(15)\n",
      "memory usage: 2.0+ MB\n"
     ]
    },
    {
     "name": "stderr",
     "output_type": "stream",
     "text": [
      "C:\\Users\\student\\AppData\\Local\\Temp\\ipykernel_12056\\1353031355.py:4: UserWarning: Could not infer format, so each element will be parsed individually, falling back to `dateutil`. To ensure parsing is consistent and as-expected, please specify a format.\n",
      "  inf[\"Дата отзыва\"] = pd.to_datetime(inf[\"Дата отзыва\"])\n"
     ]
    }
   ],
   "source": [
    "import pandas as pd\n",
    "inf = pd.read_csv(\"data.csv\")\n",
    "pd.read_csv((\"data.csv\"), parse_dates=[\"Дата отзыва\"]).info()\n",
    "inf[\"Дата отзыва\"] = pd.to_datetime(inf[\"Дата отзыва\"])"
   ]
  }
 ],
 "metadata": {
  "kernelspec": {
   "display_name": "Python 3 (ipykernel)",
   "language": "python",
   "name": "python3"
  },
  "language_info": {
   "codemirror_mode": {
    "name": "ipython",
    "version": 3
   },
   "file_extension": ".py",
   "mimetype": "text/x-python",
   "name": "python",
   "nbconvert_exporter": "python",
   "pygments_lexer": "ipython3",
   "version": "3.11.4"
  }
 },
 "nbformat": 4,
 "nbformat_minor": 5
}
