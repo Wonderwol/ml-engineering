{
 "cells": [
  {
   "cell_type": "code",
   "execution_count": 1,
   "id": "2f11dc78-740c-4741-a9d1-8f445de9075d",
   "metadata": {},
   "outputs": [
    {
     "ename": "ModuleNotFoundError",
     "evalue": "No module named 'seaborn'",
     "output_type": "error",
     "traceback": [
      "\u001b[1;31m---------------------------------------------------------------------------\u001b[0m",
      "\u001b[1;31mModuleNotFoundError\u001b[0m                       Traceback (most recent call last)",
      "Cell \u001b[1;32mIn[1], line 2\u001b[0m\n\u001b[0;32m      1\u001b[0m \u001b[38;5;28;01mimport\u001b[39;00m \u001b[38;5;21;01mpandas\u001b[39;00m \u001b[38;5;28;01mas\u001b[39;00m \u001b[38;5;21;01mpd\u001b[39;00m\n\u001b[1;32m----> 2\u001b[0m \u001b[38;5;28;01mimport\u001b[39;00m \u001b[38;5;21;01mseaborn\u001b[39;00m \u001b[38;5;28;01mas\u001b[39;00m \u001b[38;5;21;01msns\u001b[39;00m\n\u001b[0;32m      3\u001b[0m \u001b[38;5;28;01mimport\u001b[39;00m \u001b[38;5;21;01mmatplotlib\u001b[39;00m \u001b[38;5;28;01mas\u001b[39;00m \u001b[38;5;21;01mplt\u001b[39;00m\n",
      "\u001b[1;31mModuleNotFoundError\u001b[0m: No module named 'seaborn'"
     ]
    }
   ],
   "source": [
    "import pandas as pd\n",
    "import seaborn as sns\n",
    "import matplotlib as plt"
   ]
  },
  {
   "cell_type": "code",
   "execution_count": null,
   "id": "3b54ba89-d75b-45ce-b6b4-93cd854cef1e",
   "metadata": {},
   "outputs": [],
   "source": [
    "inf = pd.read_csv(\"S:\\ФБИ-11\\ml-engineering\\data.csv\") # \"чтение\" файла"
   ]
  },
  {
   "cell_type": "code",
   "execution_count": null,
   "id": "3634169b-dfec-42dc-b970-0fc811c38497",
   "metadata": {},
   "outputs": [],
   "source": [
    "inf[\"нет ответа\"]=data[\"Ответ\"].isna()"
   ]
  },
  {
   "cell_type": "code",
   "execution_count": null,
   "id": "d08395b4-532e-42d3-a691-17a5bc28daf8",
   "metadata": {},
   "outputs": [],
   "source": [
    "inf = inf.groupby(['Тип отзыва', 'Подведомственность'])['нет ответа'].sum().reset_index()\n",
    "sns.barplot(x='Тип отзыва', y='нет ответа', hue='Подведомственность', data=inf, pallette='muted')"
   ]
  },
  {
   "cell_type": "code",
   "execution_count": null,
   "id": "494e66dc-6db7-47a7-8398-56e2d79aeca3",
   "metadata": {},
   "outputs": [],
   "source": [
    "plt.xlabel('Тип отзыва')"
   ]
  },
  {
   "cell_type": "code",
   "execution_count": null,
   "id": "7a124f64-197a-422e-8388-fac05b8423d8",
   "metadata": {},
   "outputs": [],
   "source": [
    "grouped.sort_values(ascending=False).head(5) # сортировка по убыванию и выбор топ-5 "
   ]
  },
  {
   "cell_type": "code",
   "execution_count": null,
   "id": "17ce79b7-a28d-4b52-bd46-d3b565b7908f",
   "metadata": {},
   "outputs": [],
   "source": [
    "plt.ylabel('Количество отзывов без ответа')"
   ]
  },
  {
   "cell_type": "code",
   "execution_count": null,
   "id": "da1524f8-f3e5-43fb-a514-383916f7797f",
   "metadata": {},
   "outputs": [],
   "source": [
    "plt.title('Отзывы без ответа с разбивкой по типу, подведомственности и уровню')"
   ]
  },
  {
   "cell_type": "code",
   "execution_count": null,
   "id": "c98fea64-7a2b-4fc1-a73e-7a7f899a160f",
   "metadata": {},
   "outputs": [],
   "source": [
    "plt.legend(tite='Подведомственность')"
   ]
  },
  {
   "cell_type": "code",
   "execution_count": null,
   "id": "9251d9fc-c056-4e81-8286-527bbceb9dfe",
   "metadata": {},
   "outputs": [],
   "source": [
    "plt.show"
   ]
  }
 ],
 "metadata": {
  "kernelspec": {
   "display_name": "Python 3 (ipykernel)",
   "language": "python",
   "name": "python3"
  },
  "language_info": {
   "codemirror_mode": {
    "name": "ipython",
    "version": 3
   },
   "file_extension": ".py",
   "mimetype": "text/x-python",
   "name": "python",
   "nbconvert_exporter": "python",
   "pygments_lexer": "ipython3",
   "version": "3.11.4"
  }
 },
 "nbformat": 4,
 "nbformat_minor": 5
}
